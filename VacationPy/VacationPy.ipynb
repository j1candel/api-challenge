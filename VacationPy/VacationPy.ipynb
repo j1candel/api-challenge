{
 "cells": [
  {
   "cell_type": "markdown",
   "metadata": {},
   "source": [
    "# VacationPy\n",
    "----\n",
    "\n",
    "#### Note\n",
    "* Keep an eye on your API usage. Use https://developers.google.com/maps/reporting/gmp-reporting as reference for how to monitor your usage and billing.\n",
    "\n",
    "* Instructions have been included for each segment. You do not have to follow them exactly, but they are included to help you think through the steps."
   ]
  },
  {
   "cell_type": "code",
   "execution_count": 1,
   "metadata": {},
   "outputs": [],
   "source": [
    "# Dependencies and Setup\n",
    "import matplotlib.pyplot as plt\n",
    "import pandas as pd\n",
    "import numpy as np\n",
    "import os\n",
    "import gmaps \n",
    "import requests \n",
    "\n",
    "# Import API key\n",
    "from api_keys import g_key"
   ]
  },
  {
   "cell_type": "markdown",
   "metadata": {},
   "source": [
    "### Store Part I results into DataFrame\n",
    "* Load the csv exported in Part I to a DataFrame"
   ]
  },
  {
   "cell_type": "code",
   "execution_count": 3,
   "metadata": {},
   "outputs": [],
   "source": [
    "#Opening the csv file \n",
    "csv_path = \"city_data.csv\" \n",
    "city_data_df = pd.read_csv(csv_path)"
   ]
  },
  {
   "cell_type": "markdown",
   "metadata": {},
   "source": [
    "### Humidity Heatmap\n",
    "* Configure gmaps.\n",
    "* Use the Lat and Lng as locations and Humidity as the weight.\n",
    "* Add Heatmap layer to map."
   ]
  },
  {
   "cell_type": "code",
   "execution_count": 8,
   "metadata": {},
   "outputs": [],
   "source": [
    "#Setting cordinates equal to the Latitude and Longitude \n",
    "cordinates = city_data_df[['Latitude','Longitude']]"
   ]
  },
  {
   "cell_type": "code",
   "execution_count": 9,
   "metadata": {},
   "outputs": [],
   "source": [
    "#Setting the map parameters for the google maps \n",
    "figure_layout = {\n",
    "    'width' : '400px',\n",
    "    'height' : '300px',\n",
    "    'border' : '1px solid black',\n",
    "    'padding' :'1px',\n",
    "    'margin' : '0 auto 0 auto'\n",
    "}\n",
    "\n",
    "#Making the google maps \n",
    "fig = gmaps.figure(layout = figure_layout)"
   ]
  },
  {
   "cell_type": "code",
   "execution_count": 11,
   "metadata": {
    "scrolled": true
   },
   "outputs": [
    {
     "data": {
      "application/vnd.jupyter.widget-view+json": {
       "model_id": "8a5895bec9d349808f854a84b8a5b1cd",
       "version_major": 2,
       "version_minor": 0
      },
      "text/plain": [
       "Figure(layout=FigureLayout(height='420px'))"
      ]
     },
     "metadata": {},
     "output_type": "display_data"
    }
   ],
   "source": [
    "#Setting fig equal to gmaps creation \n",
    "fig = gmaps.figure()\n",
    "\n",
    "#Setting humidity equal to Humidity \n",
    "humidity = city_data_df['Humidity']\n",
    "\n",
    "#Making a heat map layer\n",
    "heat_layer = gmaps.heatmap_layer(cordinates, weights = humidity, \n",
    "                                 dissipating = False, max_intensity = 91, \n",
    "                                 point_radius = 1)\n",
    "\n",
    "#Adding the heat map layer to your map \n",
    "fig.add_layer(heat_layer)\n",
    "\n",
    "#Displaying the figure \n",
    "fig"
   ]
  },
  {
   "cell_type": "markdown",
   "metadata": {},
   "source": [
    "### Create new DataFrame fitting weather criteria\n",
    "* Narrow down the cities to fit weather conditions.\n",
    "* Drop any rows will null values."
   ]
  },
  {
   "cell_type": "code",
   "execution_count": 12,
   "metadata": {},
   "outputs": [],
   "source": [
    "#Filtering all the data of cities that have a temperature between 80°F and 70°F\n",
    "city_data_df = city_data_df.loc[city_data_df['Temperature °F']>70]\n",
    "city_data_df = city_data_df.loc[city_data_df['Temperature °F']<80]\n",
    "\n",
    "#Filtering all the data of cities that have wind speed less than 10mph\n",
    "city_data_df = city_data_df.loc[city_data_df['Wind Speed']<10]\n",
    "\n",
    "#Filtering all the data of cities that have no cloudiness \n",
    "city_data_df = city_data_df.loc[city_data_df['Cloudiness']==0]"
   ]
  },
  {
   "cell_type": "code",
   "execution_count": 13,
   "metadata": {},
   "outputs": [
    {
     "data": {
      "text/html": [
       "<div>\n",
       "<style scoped>\n",
       "    .dataframe tbody tr th:only-of-type {\n",
       "        vertical-align: middle;\n",
       "    }\n",
       "\n",
       "    .dataframe tbody tr th {\n",
       "        vertical-align: top;\n",
       "    }\n",
       "\n",
       "    .dataframe thead th {\n",
       "        text-align: right;\n",
       "    }\n",
       "</style>\n",
       "<table border=\"1\" class=\"dataframe\">\n",
       "  <thead>\n",
       "    <tr style=\"text-align: right;\">\n",
       "      <th></th>\n",
       "      <th>Unnamed: 0</th>\n",
       "      <th>City</th>\n",
       "      <th>Temperature °F</th>\n",
       "      <th>Humidity</th>\n",
       "      <th>Cloudiness</th>\n",
       "      <th>Wind Speed</th>\n",
       "      <th>Latitude</th>\n",
       "      <th>Longitude</th>\n",
       "      <th>Country</th>\n",
       "      <th>Date</th>\n",
       "    </tr>\n",
       "  </thead>\n",
       "  <tbody>\n",
       "    <tr>\n",
       "      <th>19</th>\n",
       "      <td>19</td>\n",
       "      <td>Gerāsh</td>\n",
       "      <td>78.80</td>\n",
       "      <td>50</td>\n",
       "      <td>0</td>\n",
       "      <td>1.30</td>\n",
       "      <td>27.67</td>\n",
       "      <td>54.14</td>\n",
       "      <td>IR</td>\n",
       "      <td>1601354144</td>\n",
       "    </tr>\n",
       "    <tr>\n",
       "      <th>111</th>\n",
       "      <td>111</td>\n",
       "      <td>San Quintín</td>\n",
       "      <td>72.43</td>\n",
       "      <td>70</td>\n",
       "      <td>0</td>\n",
       "      <td>9.04</td>\n",
       "      <td>30.48</td>\n",
       "      <td>-115.95</td>\n",
       "      <td>MX</td>\n",
       "      <td>1601353893</td>\n",
       "    </tr>\n",
       "    <tr>\n",
       "      <th>263</th>\n",
       "      <td>263</td>\n",
       "      <td>Erzin</td>\n",
       "      <td>73.99</td>\n",
       "      <td>91</td>\n",
       "      <td>0</td>\n",
       "      <td>1.90</td>\n",
       "      <td>36.96</td>\n",
       "      <td>36.20</td>\n",
       "      <td>TR</td>\n",
       "      <td>1601354140</td>\n",
       "    </tr>\n",
       "    <tr>\n",
       "      <th>268</th>\n",
       "      <td>268</td>\n",
       "      <td>Carutapera</td>\n",
       "      <td>77.86</td>\n",
       "      <td>81</td>\n",
       "      <td>0</td>\n",
       "      <td>7.90</td>\n",
       "      <td>-1.20</td>\n",
       "      <td>-46.02</td>\n",
       "      <td>BR</td>\n",
       "      <td>1601354444</td>\n",
       "    </tr>\n",
       "    <tr>\n",
       "      <th>326</th>\n",
       "      <td>326</td>\n",
       "      <td>Morondava</td>\n",
       "      <td>77.47</td>\n",
       "      <td>52</td>\n",
       "      <td>0</td>\n",
       "      <td>4.34</td>\n",
       "      <td>-20.28</td>\n",
       "      <td>44.28</td>\n",
       "      <td>MG</td>\n",
       "      <td>1601353992</td>\n",
       "    </tr>\n",
       "    <tr>\n",
       "      <th>441</th>\n",
       "      <td>441</td>\n",
       "      <td>Birao</td>\n",
       "      <td>71.22</td>\n",
       "      <td>93</td>\n",
       "      <td>0</td>\n",
       "      <td>4.27</td>\n",
       "      <td>10.28</td>\n",
       "      <td>22.79</td>\n",
       "      <td>CF</td>\n",
       "      <td>1601354501</td>\n",
       "    </tr>\n",
       "    <tr>\n",
       "      <th>529</th>\n",
       "      <td>529</td>\n",
       "      <td>Abu Samrah</td>\n",
       "      <td>77.00</td>\n",
       "      <td>46</td>\n",
       "      <td>0</td>\n",
       "      <td>5.03</td>\n",
       "      <td>35.30</td>\n",
       "      <td>37.18</td>\n",
       "      <td>SY</td>\n",
       "      <td>1601354530</td>\n",
       "    </tr>\n",
       "    <tr>\n",
       "      <th>545</th>\n",
       "      <td>545</td>\n",
       "      <td>Quelimane</td>\n",
       "      <td>73.40</td>\n",
       "      <td>88</td>\n",
       "      <td>0</td>\n",
       "      <td>2.24</td>\n",
       "      <td>-17.88</td>\n",
       "      <td>36.89</td>\n",
       "      <td>MZ</td>\n",
       "      <td>1601354535</td>\n",
       "    </tr>\n",
       "    <tr>\n",
       "      <th>564</th>\n",
       "      <td>564</td>\n",
       "      <td>Al Bardīyah</td>\n",
       "      <td>79.65</td>\n",
       "      <td>52</td>\n",
       "      <td>0</td>\n",
       "      <td>6.38</td>\n",
       "      <td>31.76</td>\n",
       "      <td>25.09</td>\n",
       "      <td>LY</td>\n",
       "      <td>1601354540</td>\n",
       "    </tr>\n",
       "  </tbody>\n",
       "</table>\n",
       "</div>"
      ],
      "text/plain": [
       "     Unnamed: 0         City  Temperature °F  Humidity  Cloudiness  \\\n",
       "19           19       Gerāsh           78.80        50           0   \n",
       "111         111  San Quintín           72.43        70           0   \n",
       "263         263        Erzin           73.99        91           0   \n",
       "268         268   Carutapera           77.86        81           0   \n",
       "326         326    Morondava           77.47        52           0   \n",
       "441         441        Birao           71.22        93           0   \n",
       "529         529   Abu Samrah           77.00        46           0   \n",
       "545         545    Quelimane           73.40        88           0   \n",
       "564         564  Al Bardīyah           79.65        52           0   \n",
       "\n",
       "     Wind Speed  Latitude  Longitude Country        Date  \n",
       "19         1.30     27.67      54.14      IR  1601354144  \n",
       "111        9.04     30.48    -115.95      MX  1601353893  \n",
       "263        1.90     36.96      36.20      TR  1601354140  \n",
       "268        7.90     -1.20     -46.02      BR  1601354444  \n",
       "326        4.34    -20.28      44.28      MG  1601353992  \n",
       "441        4.27     10.28      22.79      CF  1601354501  \n",
       "529        5.03     35.30      37.18      SY  1601354530  \n",
       "545        2.24    -17.88      36.89      MZ  1601354535  \n",
       "564        6.38     31.76      25.09      LY  1601354540  "
      ]
     },
     "execution_count": 13,
     "metadata": {},
     "output_type": "execute_result"
    }
   ],
   "source": [
    "#Dropping rows with NA\n",
    "hotel_df = city_data_df.dropna()\n",
    "\n",
    "#Displaying hotel_df\n",
    "hotel_df"
   ]
  },
  {
   "cell_type": "markdown",
   "metadata": {},
   "source": [
    "### Hotel Map\n",
    "* Store into variable named `hotel_df`.\n",
    "* Add a \"Hotel Name\" column to the DataFrame.\n",
    "* Set parameters to search for hotels with 5000 meters.\n",
    "* Hit the Google Places API for each city's coordinates.\n",
    "* Store the first Hotel result into the DataFrame.\n",
    "* Plot markers on top of the heatmap."
   ]
  },
  {
   "cell_type": "code",
   "execution_count": 14,
   "metadata": {},
   "outputs": [
    {
     "name": "stdout",
     "output_type": "stream",
     "text": [
      "10.28, 22.79 Does not exist\n",
      "35.3, 37.18 Does not exist\n"
     ]
    },
    {
     "data": {
      "text/plain": [
       "['Chelpasin',\n",
       " 'Old Mill Hotel',\n",
       " 'Artemis Otel',\n",
       " 'Lidera',\n",
       " 'La Case Bambou',\n",
       " 'Hotel Flamingo',\n",
       " 'بورتو بردية']"
      ]
     },
     "execution_count": 14,
     "metadata": {},
     "output_type": "execute_result"
    }
   ],
   "source": [
    "#Putting the hotel cordinates into a zip \n",
    "hotel_cordinates = zip(hotel_df['Latitude'],hotel_df['Longitude']) \n",
    "\n",
    "#Setting the parameters for google maps \n",
    "target_radius = 5000\n",
    "target_type = 'lodging'\n",
    "\n",
    "#Making hotel_name a list \n",
    "hotel_name = []\n",
    "\n",
    "#Looping through all the cordinates to find the closest hotel within 5000 meters \n",
    "for hotel_cordinates in hotel_cordinates:\n",
    "    \n",
    "    \n",
    "    try:\n",
    "        #Converting the parameters into a dictionary \n",
    "        params = {\n",
    "            'location' : (f'{hotel_cordinates[0]}, {hotel_cordinates[1]}'),\n",
    "            'radius' : target_radius,\n",
    "            'type' : target_type,\n",
    "            'key' : g_key\n",
    "        }\n",
    "        \n",
    "        #Setting the base url to the url \n",
    "        base_url = \"https://maps.googleapis.com/maps/api/place/nearbysearch/json\"\n",
    "        \n",
    "        #Requesting and finding the name of each hotel \n",
    "        response = requests.get(base_url, params=params)\n",
    "        hotel_data = response.json()\n",
    "        hotel_name.append(hotel_data['results'][0]['name'])\n",
    "    \n",
    "    #Using an except incase there is no hotel within 5000 meters \n",
    "    except IndexError:\n",
    "        \n",
    "        #Print the cordinates of the areas where hotels were not found within 5000 meters\n",
    "        print(f'{hotel_cordinates[0]}, {hotel_cordinates[1]} Does not exist')\n",
    "\n",
    "#Displaying the list of hotel names        \n",
    "hotel_name"
   ]
  },
  {
   "cell_type": "code",
   "execution_count": 15,
   "metadata": {},
   "outputs": [
    {
     "data": {
      "text/html": [
       "<div>\n",
       "<style scoped>\n",
       "    .dataframe tbody tr th:only-of-type {\n",
       "        vertical-align: middle;\n",
       "    }\n",
       "\n",
       "    .dataframe tbody tr th {\n",
       "        vertical-align: top;\n",
       "    }\n",
       "\n",
       "    .dataframe thead th {\n",
       "        text-align: right;\n",
       "    }\n",
       "</style>\n",
       "<table border=\"1\" class=\"dataframe\">\n",
       "  <thead>\n",
       "    <tr style=\"text-align: right;\">\n",
       "      <th></th>\n",
       "      <th>City</th>\n",
       "      <th>Temperature °F</th>\n",
       "      <th>Humidity</th>\n",
       "      <th>Cloudiness</th>\n",
       "      <th>Wind Speed</th>\n",
       "      <th>Latitude</th>\n",
       "      <th>Longitude</th>\n",
       "      <th>Country</th>\n",
       "      <th>Date</th>\n",
       "      <th>Hotel Name</th>\n",
       "    </tr>\n",
       "  </thead>\n",
       "  <tbody>\n",
       "    <tr>\n",
       "      <th>19</th>\n",
       "      <td>Gerāsh</td>\n",
       "      <td>78.80</td>\n",
       "      <td>50</td>\n",
       "      <td>0</td>\n",
       "      <td>1.30</td>\n",
       "      <td>27.67</td>\n",
       "      <td>54.14</td>\n",
       "      <td>IR</td>\n",
       "      <td>1601354144</td>\n",
       "      <td>Chelpasin</td>\n",
       "    </tr>\n",
       "    <tr>\n",
       "      <th>111</th>\n",
       "      <td>San Quintín</td>\n",
       "      <td>72.43</td>\n",
       "      <td>70</td>\n",
       "      <td>0</td>\n",
       "      <td>9.04</td>\n",
       "      <td>30.48</td>\n",
       "      <td>-115.95</td>\n",
       "      <td>MX</td>\n",
       "      <td>1601353893</td>\n",
       "      <td>Old Mill Hotel</td>\n",
       "    </tr>\n",
       "    <tr>\n",
       "      <th>263</th>\n",
       "      <td>Erzin</td>\n",
       "      <td>73.99</td>\n",
       "      <td>91</td>\n",
       "      <td>0</td>\n",
       "      <td>1.90</td>\n",
       "      <td>36.96</td>\n",
       "      <td>36.20</td>\n",
       "      <td>TR</td>\n",
       "      <td>1601354140</td>\n",
       "      <td>Artemis Otel</td>\n",
       "    </tr>\n",
       "    <tr>\n",
       "      <th>268</th>\n",
       "      <td>Carutapera</td>\n",
       "      <td>77.86</td>\n",
       "      <td>81</td>\n",
       "      <td>0</td>\n",
       "      <td>7.90</td>\n",
       "      <td>-1.20</td>\n",
       "      <td>-46.02</td>\n",
       "      <td>BR</td>\n",
       "      <td>1601354444</td>\n",
       "      <td>Lidera</td>\n",
       "    </tr>\n",
       "    <tr>\n",
       "      <th>326</th>\n",
       "      <td>Morondava</td>\n",
       "      <td>77.47</td>\n",
       "      <td>52</td>\n",
       "      <td>0</td>\n",
       "      <td>4.34</td>\n",
       "      <td>-20.28</td>\n",
       "      <td>44.28</td>\n",
       "      <td>MG</td>\n",
       "      <td>1601353992</td>\n",
       "      <td>La Case Bambou</td>\n",
       "    </tr>\n",
       "    <tr>\n",
       "      <th>545</th>\n",
       "      <td>Quelimane</td>\n",
       "      <td>73.40</td>\n",
       "      <td>88</td>\n",
       "      <td>0</td>\n",
       "      <td>2.24</td>\n",
       "      <td>-17.88</td>\n",
       "      <td>36.89</td>\n",
       "      <td>MZ</td>\n",
       "      <td>1601354535</td>\n",
       "      <td>Hotel Flamingo</td>\n",
       "    </tr>\n",
       "    <tr>\n",
       "      <th>564</th>\n",
       "      <td>Al Bardīyah</td>\n",
       "      <td>79.65</td>\n",
       "      <td>52</td>\n",
       "      <td>0</td>\n",
       "      <td>6.38</td>\n",
       "      <td>31.76</td>\n",
       "      <td>25.09</td>\n",
       "      <td>LY</td>\n",
       "      <td>1601354540</td>\n",
       "      <td>بورتو بردية</td>\n",
       "    </tr>\n",
       "  </tbody>\n",
       "</table>\n",
       "</div>"
      ],
      "text/plain": [
       "            City  Temperature °F  Humidity  Cloudiness  Wind Speed  Latitude  \\\n",
       "19        Gerāsh           78.80        50           0        1.30     27.67   \n",
       "111  San Quintín           72.43        70           0        9.04     30.48   \n",
       "263        Erzin           73.99        91           0        1.90     36.96   \n",
       "268   Carutapera           77.86        81           0        7.90     -1.20   \n",
       "326    Morondava           77.47        52           0        4.34    -20.28   \n",
       "545    Quelimane           73.40        88           0        2.24    -17.88   \n",
       "564  Al Bardīyah           79.65        52           0        6.38     31.76   \n",
       "\n",
       "     Longitude Country        Date      Hotel Name  \n",
       "19       54.14      IR  1601354144       Chelpasin  \n",
       "111    -115.95      MX  1601353893  Old Mill Hotel  \n",
       "263      36.20      TR  1601354140    Artemis Otel  \n",
       "268     -46.02      BR  1601354444          Lidera  \n",
       "326      44.28      MG  1601353992  La Case Bambou  \n",
       "545      36.89      MZ  1601354535  Hotel Flamingo  \n",
       "564      25.09      LY  1601354540     بورتو بردية  "
      ]
     },
     "execution_count": 15,
     "metadata": {},
     "output_type": "execute_result"
    }
   ],
   "source": [
    "#Dropping cities where a hotel was not found \n",
    "hotel_df = hotel_df.drop([441, 529])\n",
    "\n",
    "#Adding Hotel Name to the end of the exisiting Data Frame \n",
    "hotel_df['Hotel Name'] = hotel_name\n",
    "\n",
    "#Dropping the Unamed Field \n",
    "hotel_df = hotel_df.drop(['Unnamed: 0'], axis=1)\n",
    "\n",
    "#Displaying the data frame \n",
    "hotel_df"
   ]
  },
  {
   "cell_type": "code",
   "execution_count": 16,
   "metadata": {},
   "outputs": [
    {
     "data": {
      "application/vnd.jupyter.widget-view+json": {
       "model_id": "55fb8938f2784fe68af79d90b9102973",
       "version_major": 2,
       "version_minor": 0
      },
      "text/plain": [
       "Figure(layout=FigureLayout(height='420px'))"
      ]
     },
     "metadata": {},
     "output_type": "display_data"
    }
   ],
   "source": [
    "#Setting Locations equal to the Latitide and Longitude \n",
    "locations = hotel_df[['Latitude','Longitude']]\n",
    "\n",
    "#Setting fig equal to gmaps creation \n",
    "fig = gmaps.figure()\n",
    "\n",
    "#Setting humidity equal to Humidity \n",
    "humidity = hotel_df['Humidity']\n",
    "\n",
    "#Making a heat map layer\n",
    "heat_layer = gmaps.heatmap_layer(locations, weights = humidity, \n",
    "                                 dissipating = False, max_intensity = 91, \n",
    "                                 point_radius = 1)\n",
    "\n",
    "#Adding the heat map layer to your map \n",
    "fig.add_layer(heat_layer)\n",
    "\n",
    "#Displaying the figure \n",
    "fig"
   ]
  },
  {
   "cell_type": "code",
   "execution_count": 17,
   "metadata": {},
   "outputs": [],
   "source": [
    "# NOTE: Do not change any of the code in this cell\n",
    "\n",
    "# Using the template add the hotel marks to the heatmap\n",
    "info_box_template = \"\"\"\n",
    "<dl>\n",
    "<dt>Name</dt><dd>{Hotel Name}</dd>\n",
    "<dt>City</dt><dd>{City}</dd>\n",
    "<dt>Country</dt><dd>{Country}</dd>\n",
    "</dl>\n",
    "\"\"\"\n",
    "# Store the DataFrame Row\n",
    "# NOTE: be sure to update with your DataFrame name\n",
    "hotel_info = [info_box_template.format(**row) for index, row in hotel_df.iterrows()]\n",
    "locations = hotel_df[['Latitude','Longitude']]"
   ]
  },
  {
   "cell_type": "code",
   "execution_count": 18,
   "metadata": {},
   "outputs": [
    {
     "data": {
      "application/vnd.jupyter.widget-view+json": {
       "model_id": "55fb8938f2784fe68af79d90b9102973",
       "version_major": 2,
       "version_minor": 0
      },
      "text/plain": [
       "Figure(layout=FigureLayout(height='420px'))"
      ]
     },
     "metadata": {},
     "output_type": "display_data"
    }
   ],
   "source": [
    "#Making the marker layer\n",
    "marker_layer = gmaps.marker_layer(locations, info_box_content = hotel_info)\n",
    "\n",
    "# Add marker layer ontop of heat map\n",
    "fig.add_layer(marker_layer)\n",
    "\n",
    "# Display figure\n",
    "fig"
   ]
  },
  {
   "cell_type": "code",
   "execution_count": null,
   "metadata": {},
   "outputs": [],
   "source": []
  }
 ],
 "metadata": {
  "kernelspec": {
   "display_name": "Python 3",
   "language": "python",
   "name": "python3"
  },
  "language_info": {
   "codemirror_mode": {
    "name": "ipython",
    "version": 3
   },
   "file_extension": ".py",
   "mimetype": "text/x-python",
   "name": "python",
   "nbconvert_exporter": "python",
   "pygments_lexer": "ipython3",
   "version": "3.6.10"
  },
  "latex_envs": {
   "LaTeX_envs_menu_present": true,
   "autoclose": false,
   "autocomplete": true,
   "bibliofile": "biblio.bib",
   "cite_by": "apalike",
   "current_citInitial": 1,
   "eqLabelWithNumbers": true,
   "eqNumInitial": 1,
   "hotkeys": {
    "equation": "Ctrl-E",
    "itemize": "Ctrl-I"
   },
   "labels_anchors": false,
   "latex_user_defs": false,
   "report_style_numbering": false,
   "user_envs_cfg": false
  }
 },
 "nbformat": 4,
 "nbformat_minor": 4
}
